{
 "cells": [
  {
   "cell_type": "markdown",
   "id": "aaacd40d",
   "metadata": {},
   "source": [
    "## Beta = cov(rx,rm) / var(m)\n",
    "measures the market risk that cannot be avoided through diversification\n",
    "\n",
    "The riskier the stock, the higher the beta\n",
    "\n",
    "##### The relationship between a stock and the market :\n",
    "\n",
    "beta = 0 --> No relationship\n",
    "\n",
    "beta < 1 --> Defensive --> if the market does poorly, these stocks will lose less\n",
    "\n",
    "beta = 1 --> the stock will perform the way the market does \n",
    "\n",
    "beta > 1 --> Aggressive --> risker than the market, stocks perform better than the market when the economy flourishes\n",
    "\n",
    "x - stock,\n",
    "m - market"
   ]
  },
  {
   "cell_type": "markdown",
   "id": "e7e1a471",
   "metadata": {},
   "source": [
    "## Calculating the Beta of a stock"
   ]
  },
  {
   "cell_type": "code",
   "execution_count": 2,
   "id": "c2aa91c8",
   "metadata": {},
   "outputs": [],
   "source": [
    "import numpy as np\n",
    "import pandas as pd\n",
    "from pandas_datareader import data as wb"
   ]
  },
  {
   "cell_type": "code",
   "execution_count": 4,
   "id": "2a12a143",
   "metadata": {},
   "outputs": [],
   "source": [
    "tickers = ['PG','^GSPC']\n",
    "data = pd.DataFrame()\n",
    "\n",
    "for t in tickers:\n",
    "    data[t] = wb.DataReader(t, data_source = 'yahoo', start = '2012-1-1', end='2016-12-31')['Adj Close']"
   ]
  },
  {
   "cell_type": "code",
   "execution_count": 9,
   "id": "bfd9d9f7",
   "metadata": {},
   "outputs": [
    {
     "data": {
      "text/html": [
       "<div>\n",
       "<style scoped>\n",
       "    .dataframe tbody tr th:only-of-type {\n",
       "        vertical-align: middle;\n",
       "    }\n",
       "\n",
       "    .dataframe tbody tr th {\n",
       "        vertical-align: top;\n",
       "    }\n",
       "\n",
       "    .dataframe thead th {\n",
       "        text-align: right;\n",
       "    }\n",
       "</style>\n",
       "<table border=\"1\" class=\"dataframe\">\n",
       "  <thead>\n",
       "    <tr style=\"text-align: right;\">\n",
       "      <th></th>\n",
       "      <th>PG</th>\n",
       "      <th>^GSPC</th>\n",
       "    </tr>\n",
       "    <tr>\n",
       "      <th>Date</th>\n",
       "      <th></th>\n",
       "      <th></th>\n",
       "    </tr>\n",
       "  </thead>\n",
       "  <tbody>\n",
       "    <tr>\n",
       "      <th>2012-01-03</th>\n",
       "      <td>NaN</td>\n",
       "      <td>NaN</td>\n",
       "    </tr>\n",
       "    <tr>\n",
       "      <th>2012-01-04</th>\n",
       "      <td>-0.000449</td>\n",
       "      <td>0.000188</td>\n",
       "    </tr>\n",
       "    <tr>\n",
       "      <th>2012-01-05</th>\n",
       "      <td>-0.004201</td>\n",
       "      <td>0.002939</td>\n",
       "    </tr>\n",
       "    <tr>\n",
       "      <th>2012-01-06</th>\n",
       "      <td>-0.002408</td>\n",
       "      <td>-0.002540</td>\n",
       "    </tr>\n",
       "    <tr>\n",
       "      <th>2012-01-09</th>\n",
       "      <td>0.004210</td>\n",
       "      <td>0.002259</td>\n",
       "    </tr>\n",
       "    <tr>\n",
       "      <th>...</th>\n",
       "      <td>...</td>\n",
       "      <td>...</td>\n",
       "    </tr>\n",
       "    <tr>\n",
       "      <th>2016-12-23</th>\n",
       "      <td>0.005784</td>\n",
       "      <td>0.001251</td>\n",
       "    </tr>\n",
       "    <tr>\n",
       "      <th>2016-12-27</th>\n",
       "      <td>-0.004246</td>\n",
       "      <td>0.002246</td>\n",
       "    </tr>\n",
       "    <tr>\n",
       "      <th>2016-12-28</th>\n",
       "      <td>-0.006285</td>\n",
       "      <td>-0.008392</td>\n",
       "    </tr>\n",
       "    <tr>\n",
       "      <th>2016-12-29</th>\n",
       "      <td>0.003325</td>\n",
       "      <td>-0.000293</td>\n",
       "    </tr>\n",
       "    <tr>\n",
       "      <th>2016-12-30</th>\n",
       "      <td>-0.003206</td>\n",
       "      <td>-0.004648</td>\n",
       "    </tr>\n",
       "  </tbody>\n",
       "</table>\n",
       "<p>1258 rows × 2 columns</p>\n",
       "</div>"
      ],
      "text/plain": [
       "                  PG     ^GSPC\n",
       "Date                          \n",
       "2012-01-03       NaN       NaN\n",
       "2012-01-04 -0.000449  0.000188\n",
       "2012-01-05 -0.004201  0.002939\n",
       "2012-01-06 -0.002408 -0.002540\n",
       "2012-01-09  0.004210  0.002259\n",
       "...              ...       ...\n",
       "2016-12-23  0.005784  0.001251\n",
       "2016-12-27 -0.004246  0.002246\n",
       "2016-12-28 -0.006285 -0.008392\n",
       "2016-12-29  0.003325 -0.000293\n",
       "2016-12-30 -0.003206 -0.004648\n",
       "\n",
       "[1258 rows x 2 columns]"
      ]
     },
     "execution_count": 9,
     "metadata": {},
     "output_type": "execute_result"
    }
   ],
   "source": [
    "sec_returns = np.log(data / data.shift(1))\n",
    "sec_returns"
   ]
  },
  {
   "cell_type": "code",
   "execution_count": 7,
   "id": "02cabece",
   "metadata": {},
   "outputs": [
    {
     "data": {
      "text/html": [
       "<div>\n",
       "<style scoped>\n",
       "    .dataframe tbody tr th:only-of-type {\n",
       "        vertical-align: middle;\n",
       "    }\n",
       "\n",
       "    .dataframe tbody tr th {\n",
       "        vertical-align: top;\n",
       "    }\n",
       "\n",
       "    .dataframe thead th {\n",
       "        text-align: right;\n",
       "    }\n",
       "</style>\n",
       "<table border=\"1\" class=\"dataframe\">\n",
       "  <thead>\n",
       "    <tr style=\"text-align: right;\">\n",
       "      <th></th>\n",
       "      <th>PG</th>\n",
       "      <th>^GSPC</th>\n",
       "    </tr>\n",
       "  </thead>\n",
       "  <tbody>\n",
       "    <tr>\n",
       "      <th>PG</th>\n",
       "      <td>0.020409</td>\n",
       "      <td>0.010078</td>\n",
       "    </tr>\n",
       "    <tr>\n",
       "      <th>^GSPC</th>\n",
       "      <td>0.010078</td>\n",
       "      <td>0.016362</td>\n",
       "    </tr>\n",
       "  </tbody>\n",
       "</table>\n",
       "</div>"
      ],
      "text/plain": [
       "             PG     ^GSPC\n",
       "PG     0.020409  0.010078\n",
       "^GSPC  0.010078  0.016362"
      ]
     },
     "execution_count": 7,
     "metadata": {},
     "output_type": "execute_result"
    }
   ],
   "source": [
    "cov = sec_returns.cov() * 250\n",
    "cov"
   ]
  },
  {
   "cell_type": "code",
   "execution_count": 8,
   "id": "c03afac8",
   "metadata": {},
   "outputs": [
    {
     "data": {
      "text/plain": [
       "0.010078079094762478"
      ]
     },
     "execution_count": 8,
     "metadata": {},
     "output_type": "execute_result"
    }
   ],
   "source": [
    "cov_with_market = cov.iloc[0,1]     #covariance of PG with the market\n",
    "cov_with_market"
   ]
  },
  {
   "cell_type": "code",
   "execution_count": 10,
   "id": "308c5dc7",
   "metadata": {},
   "outputs": [
    {
     "data": {
      "text/plain": [
       "0.016361631002308474"
      ]
     },
     "execution_count": 10,
     "metadata": {},
     "output_type": "execute_result"
    }
   ],
   "source": [
    "market_var = sec_returns['^GSPC'].var() * 250     #variance of market\n",
    "market_var"
   ]
  },
  {
   "cell_type": "markdown",
   "id": "5198bd26",
   "metadata": {},
   "source": [
    "#### Beta :"
   ]
  },
  {
   "cell_type": "code",
   "execution_count": 11,
   "id": "849c42b9",
   "metadata": {},
   "outputs": [
    {
     "data": {
      "text/plain": [
       "0.6159580969244787"
      ]
     },
     "execution_count": 11,
     "metadata": {},
     "output_type": "execute_result"
    }
   ],
   "source": [
    "PG_beta = cov_with_market / market_var\n",
    "PG_beta \n",
    "#defensive stock"
   ]
  },
  {
   "cell_type": "markdown",
   "id": "915e410b",
   "metadata": {},
   "source": [
    "Since, beta < 1, the relationship between the P&G stock and the market is defensive that is if the market does poorly,these stocks will lose less and if the market flourishes, P&G's equity value won't skyrocket."
   ]
  },
  {
   "cell_type": "markdown",
   "id": "11bcf85c",
   "metadata": {},
   "source": [
    "## CAPM : ri = rf + Beta_im * (rm-rf)\n",
    "\n",
    "##### Security's expected return = return of the risk-free asset + beta * (expected return of the market - return of the risk-free asset)\n",
    "##### rf - risk free\n",
    "##### Beta(im) - beta between the stock and the market\n",
    "##### rm - market return\n",
    "##### rm - rf = equit risk premium"
   ]
  },
  {
   "cell_type": "code",
   "execution_count": 13,
   "id": "a27a5a6b",
   "metadata": {},
   "outputs": [
    {
     "data": {
      "text/plain": [
       "0.055797904846223934"
      ]
     },
     "execution_count": 13,
     "metadata": {},
     "output_type": "execute_result"
    }
   ],
   "source": [
    "PG_er = 0.025 + PG_beta * 0.05\n",
    "PG_er\n",
    "#bloomberg.com\n",
    "#U.S\n",
    "#risk-free (10 year govt bond)  = 2.5%, \n",
    "#risk premium = 5% is a credible value we can use "
   ]
  },
  {
   "cell_type": "markdown",
   "id": "290f46e6",
   "metadata": {},
   "source": [
    "## Sharpe Ratio = (ri - rf) / sd (i)\n",
    "### (ri - rf) - excess return of the stock \"i\"\n",
    "### rf - risk free rate\n",
    "### ri - rate of return on the stock \"i\"\n",
    "### sd(i) - standard deviation of the stock \"i\"\n",
    "\n",
    "Expected Return increases => Sharpe Ratio increases\n",
    "\n",
    "Standard Deviation increases => Sharpe Ratio decreases"
   ]
  },
  {
   "cell_type": "code",
   "execution_count": null,
   "id": "a254250d",
   "metadata": {},
   "outputs": [],
   "source": [
    "#Stock - 'PG'\n",
    "#Market - '^GSPC'"
   ]
  },
  {
   "cell_type": "code",
   "execution_count": 15,
   "id": "ef22ae89",
   "metadata": {},
   "outputs": [
    {
     "data": {
      "text/plain": [
       "0.2155812341705006"
      ]
     },
     "execution_count": 15,
     "metadata": {},
     "output_type": "execute_result"
    }
   ],
   "source": [
    "Sharpe = (PG_er - 0.025) / (sec_returns['PG'].std() * 250 ** 0.5) #Annualised standard deviation\n",
    "Sharpe\n",
    "#22%"
   ]
  }
 ],
 "metadata": {
  "kernelspec": {
   "display_name": "Python 3",
   "language": "python",
   "name": "python3"
  },
  "language_info": {
   "codemirror_mode": {
    "name": "ipython",
    "version": 3
   },
   "file_extension": ".py",
   "mimetype": "text/x-python",
   "name": "python",
   "nbconvert_exporter": "python",
   "pygments_lexer": "ipython3",
   "version": "3.8.11"
  }
 },
 "nbformat": 4,
 "nbformat_minor": 5
}
